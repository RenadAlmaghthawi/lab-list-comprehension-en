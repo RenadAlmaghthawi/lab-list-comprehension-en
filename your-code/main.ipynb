{
  "cells": [
    {
      "cell_type": "markdown",
      "metadata": {
        "id": "glHRSyHZa74O"
      },
      "source": [
        "# List Comprehensions\n",
        "\n",
        "Complete the following set of exercises to solidify your knowledge of list comprehensions."
      ]
    },
    {
      "cell_type": "code",
      "execution_count": null,
      "metadata": {
        "id": "951Cix4Fa74Q"
      },
      "outputs": [],
      "source": [
        "import os"
      ]
    },
    {
      "cell_type": "markdown",
      "metadata": {
        "id": "xr_tNvnja74R"
      },
      "source": [
        "#### 1. Use a list comprehension to create and print a list of consecutive integers starting with 1 and ending with 50."
      ]
    },
    {
      "cell_type": "code",
      "execution_count": null,
      "metadata": {
        "colab": {
          "base_uri": "https://localhost:8080/"
        },
        "id": "Me4WXt7Pa74R",
        "outputId": "1852ccaf-4fc0-4bf0-89c2-bf9e56238aca"
      },
      "outputs": [
        {
          "output_type": "stream",
          "name": "stdout",
          "text": [
            "The list of consecutive integers from 1 to 50 : [1, 2, 3, 4, 5, 6, 7, 8, 9, 10, 11, 12, 13, 14, 15, 16, 17, 18, 19, 20, 21, 22, 23, 24, 25, 26, 27, 28, 29, 30, 31, 32, 33, 34, 35, 36, 37, 38, 39, 40, 41, 42, 43, 44, 45, 46, 47, 48, 49, 50]\n"
          ]
        }
      ],
      "source": [
        "#your code here\n",
        "lst_inegres = [ num for num in range(1,51)]\n",
        "\n",
        "print(\"The list of consecutive integers from 1 to 50 :\" , lst_inegres)"
      ]
    },
    {
      "cell_type": "markdown",
      "metadata": {
        "id": "B-iuyyTna74S"
      },
      "source": [
        "#### 2. Use a list comprehension to create and print a list of even numbers starting with 2 and ending with 200."
      ]
    },
    {
      "cell_type": "code",
      "execution_count": null,
      "metadata": {
        "colab": {
          "base_uri": "https://localhost:8080/"
        },
        "id": "Etc5NK1Ra74S",
        "outputId": "e388f113-fc05-4203-d0bb-b8c2c1b15757"
      },
      "outputs": [
        {
          "output_type": "stream",
          "name": "stdout",
          "text": [
            "The list of even numbers from 2 to 200 : [2, 4, 6, 8, 10, 12, 14, 16, 18, 20, 22, 24, 26, 28, 30, 32, 34, 36, 38, 40, 42, 44, 46, 48, 50, 52, 54, 56, 58, 60, 62, 64, 66, 68, 70, 72, 74, 76, 78, 80, 82, 84, 86, 88, 90, 92, 94, 96, 98, 100, 102, 104, 106, 108, 110, 112, 114, 116, 118, 120, 122, 124, 126, 128, 130, 132, 134, 136, 138, 140, 142, 144, 146, 148, 150, 152, 154, 156, 158, 160, 162, 164, 166, 168, 170, 172, 174, 176, 178, 180, 182, 184, 186, 188, 190, 192, 194, 196, 198, 200]\n"
          ]
        }
      ],
      "source": [
        "#your code here\n",
        "lst_even = [ num for num in range(2,201) if num % 2 == 0 ]\n",
        "\n",
        "print(\"The list of even numbers from 2 to 200 :\" , lst_even)"
      ]
    },
    {
      "cell_type": "markdown",
      "metadata": {
        "id": "ByeyvKbda74S"
      },
      "source": [
        "#### 3. Use a list comprehension to create and print a list containing all elements of the 10 x 4 array below."
      ]
    },
    {
      "cell_type": "code",
      "execution_count": null,
      "metadata": {
        "id": "iXqIKTTVa74S"
      },
      "outputs": [],
      "source": [
        "a = [[0.84062117, 0.48006452, 0.7876326 , 0.77109654],\n",
        "       [0.44409793, 0.09014516, 0.81835917, 0.87645456],\n",
        "       [0.7066597 , 0.09610873, 0.41247947, 0.57433389],\n",
        "       [0.29960807, 0.42315023, 0.34452557, 0.4751035 ],\n",
        "       [0.17003563, 0.46843998, 0.92796258, 0.69814654],\n",
        "       [0.41290051, 0.19561071, 0.16284783, 0.97016248],\n",
        "       [0.71725408, 0.87702738, 0.31244595, 0.76615487],\n",
        "       [0.20754036, 0.57871812, 0.07214068, 0.40356048],\n",
        "       [0.12149553, 0.53222417, 0.9976855 , 0.12536346],\n",
        "       [0.80930099, 0.50962849, 0.94555126, 0.33364763]];"
      ]
    },
    {
      "cell_type": "code",
      "execution_count": null,
      "metadata": {
        "colab": {
          "base_uri": "https://localhost:8080/"
        },
        "id": "tIzpND7Oa74T",
        "outputId": "8a15938e-a48c-4eb4-a3cc-050c109ffd5a"
      },
      "outputs": [
        {
          "output_type": "stream",
          "name": "stdout",
          "text": [
            "The list containing all elements of the 10 x 4 array :  [0.84062117, 0.48006452, 0.7876326, 0.77109654, 0.44409793, 0.09014516, 0.81835917, 0.87645456, 0.7066597, 0.09610873, 0.41247947, 0.57433389, 0.29960807, 0.42315023, 0.34452557, 0.4751035, 0.17003563, 0.46843998, 0.92796258, 0.69814654, 0.41290051, 0.19561071, 0.16284783, 0.97016248, 0.71725408, 0.87702738, 0.31244595, 0.76615487, 0.20754036, 0.57871812, 0.07214068, 0.40356048, 0.12149553, 0.53222417, 0.9976855, 0.12536346, 0.80930099, 0.50962849, 0.94555126, 0.33364763]\n"
          ]
        }
      ],
      "source": [
        "#your code here\n",
        "# The array 'a' contains 10 lists, so we use an inner loop to access numbers and add them to my_lst\n",
        "my_lst = [num for lst in a for num in lst]\n",
        "print(\"The list containing all elements of the 10 x 4 array : \" , my_lst)"
      ]
    },
    {
      "cell_type": "markdown",
      "metadata": {
        "id": "DvXvaPNEa74T"
      },
      "source": [
        "#### 4. Add a condition to the list comprehension above so that only values greater than or equal to 0.5 are printed."
      ]
    },
    {
      "cell_type": "code",
      "execution_count": null,
      "metadata": {
        "colab": {
          "base_uri": "https://localhost:8080/"
        },
        "id": "XDEwfAj0a74T",
        "outputId": "00091836-61d7-4206-bc9c-f35a246ee675"
      },
      "outputs": [
        {
          "output_type": "stream",
          "name": "stdout",
          "text": [
            "The list containing all elements of the 10 x 4 array :  [0.84062117, 0.7876326, 0.77109654, 0.81835917, 0.87645456, 0.7066597, 0.57433389, 0.92796258, 0.69814654, 0.97016248, 0.71725408, 0.87702738, 0.76615487, 0.57871812, 0.53222417, 0.9976855, 0.80930099, 0.50962849, 0.94555126]\n"
          ]
        }
      ],
      "source": [
        "#your code here\n",
        "# The array 'a' contains 10 lists, so we use an inner loop to access numbers and add them to my_lst\n",
        "my_lst = [num for lst in a for num in lst if num >= 0.5]\n",
        "print(\"The list containing all elements of the 10 x 4 array : \" , my_lst)"
      ]
    },
    {
      "cell_type": "markdown",
      "metadata": {
        "id": "jUo6J5rWa74T"
      },
      "source": [
        "#### 5. Use a list comprehension to create and print a list containing all elements of the 5 x 2 x 3 array below."
      ]
    },
    {
      "cell_type": "code",
      "execution_count": null,
      "metadata": {
        "id": "2qzCA7SMa74T"
      },
      "outputs": [],
      "source": [
        "b = [[[0.55867166, 0.06210792, 0.08147297],\n",
        "        [0.82579068, 0.91512478, 0.06833034]],\n",
        "\n",
        "       [[0.05440634, 0.65857693, 0.30296619],\n",
        "        [0.06769833, 0.96031863, 0.51293743]],\n",
        "\n",
        "       [[0.09143215, 0.71893382, 0.45850679],\n",
        "        [0.58256464, 0.59005654, 0.56266457]],\n",
        "\n",
        "       [[0.71600294, 0.87392666, 0.11434044],\n",
        "        [0.8694668 , 0.65669313, 0.10708681]],\n",
        "\n",
        "       [[0.07529684, 0.46470767, 0.47984544],\n",
        "        [0.65368638, 0.14901286, 0.23760688]]];"
      ]
    },
    {
      "cell_type": "code",
      "execution_count": null,
      "metadata": {
        "colab": {
          "base_uri": "https://localhost:8080/"
        },
        "id": "hhMK-AXZa74U",
        "outputId": "50aad800-b068-4706-cc34-c7acdfa41251"
      },
      "outputs": [
        {
          "output_type": "stream",
          "name": "stdout",
          "text": [
            "The list containing all elements of the 5 x 2 x 3 array :  [0.55867166, 0.06210792, 0.08147297, 0.82579068, 0.91512478, 0.06833034, 0.05440634, 0.65857693, 0.30296619, 0.06769833, 0.96031863, 0.51293743, 0.09143215, 0.71893382, 0.45850679, 0.58256464, 0.59005654, 0.56266457, 0.71600294, 0.87392666, 0.11434044, 0.8694668, 0.65669313, 0.10708681, 0.07529684, 0.46470767, 0.47984544, 0.65368638, 0.14901286, 0.23760688]\n"
          ]
        }
      ],
      "source": [
        "#your code here\n",
        "my_lst = [num for lst1 in b  # First loop: Iterates over the 5 outer lists\n",
        "             for lst2 in lst1  # Second loop: Iterates over the 2 inner lists inside each outer list\n",
        "             for num in lst2]  # Third loop: Extracts numbers from the 3-element inner lists\n",
        "\n",
        "print(\"The list containing all elements of the 5 x 2 x 3 array : \" , my_lst)"
      ]
    },
    {
      "cell_type": "markdown",
      "metadata": {
        "id": "a58Sv5Dia74U"
      },
      "source": [
        "#### 6. Add a condition to the list comprehension above so that the last value in each subarray is printed, but only if it is less than or equal to 0.5."
      ]
    },
    {
      "cell_type": "code",
      "execution_count": null,
      "metadata": {
        "colab": {
          "base_uri": "https://localhost:8080/"
        },
        "id": "DQMaFyDfa74U",
        "outputId": "002404d7-bfae-4f69-80ad-a26b9264fc19"
      },
      "outputs": [
        {
          "output_type": "stream",
          "name": "stdout",
          "text": [
            "The list containing all elements of the 5 x 2 x 3 array :  [0.08147297, 0.06833034, 0.30296619, 0.45850679, 0.11434044, 0.10708681, 0.47984544, 0.23760688]\n"
          ]
        }
      ],
      "source": [
        "#your code here\n",
        "my_lst = [lst2[-1] for lst1 in b  # Iterate over outer lists\n",
        "                  for lst2 in lst1  # Iterate over inner lists\n",
        "                  if lst2[-1] <= 0.5]  # Condition: Include only if last element <= 0.5\n",
        "\n",
        "print(\"The list containing all elements of the 5 x 2 x 3 array : \" , my_lst)"
      ]
    },
    {
      "cell_type": "markdown",
      "metadata": {
        "id": "d2ugIeYja74U"
      },
      "source": [
        "### Bonus"
      ]
    },
    {
      "cell_type": "markdown",
      "metadata": {
        "id": "O2Rhs-nPa74U"
      },
      "source": [
        "\n",
        "Try to solve these katas using list comprehensions."
      ]
    },
    {
      "cell_type": "markdown",
      "metadata": {
        "id": "m75sb7yXa74U"
      },
      "source": [
        "**Easy**\n",
        "- [Insert values](https://www.codewars.com/kata/invert-values)\n",
        "- [Sum Square(n)](https://www.codewars.com/kata/square-n-sum)\n",
        "- [Digitize](https://www.codewars.com/kata/digitize)\n",
        "- [List filtering](https://www.codewars.com/kata/list-filtering)\n",
        "- [Arithmetic list](https://www.codewars.com/kata/541da001259d9ca85d000688)\n",
        "\n",
        "**Medium**\n",
        "- [Multiples of 3 or 5](https://www.codewars.com/kata/514b92a657cdc65150000006)\n",
        "- [Count of positives / sum of negatives](https://www.codewars.com/kata/count-of-positives-slash-sum-of-negatives)\n",
        "- [Categorize new member](https://www.codewars.com/kata/5502c9e7b3216ec63c0001aa)\n",
        "\n",
        "**Advanced**\n",
        "- [Queue time counter](https://www.codewars.com/kata/queue-time-counter)"
      ]
    },
    {
      "cell_type": "markdown",
      "source": [
        "#Easy"
      ],
      "metadata": {
        "id": "hM7GJ9HZfmI5"
      }
    },
    {
      "cell_type": "code",
      "source": [
        "#Insert values\n",
        "\n",
        "# Given a set of numbers, return the additive inverse of each. Each positive becomes negatives, and the negatives become positives.\n",
        "# [1, 2, 3, 4, 5] --> [-1, -2, -3, -4, -5]\n",
        "#[1, -2, 3, -4, 5] --> [-1, 2, -3, 4, -5]\n",
        "#[] --> []\n",
        "\n",
        "numbers = [1, 2, -3, 4, 5]\n",
        "new_numbers = [-num for num in numbers]\n",
        "print(\"The additive inverse : \" , new_numbers)\n"
      ],
      "metadata": {
        "colab": {
          "base_uri": "https://localhost:8080/"
        },
        "id": "jeAX_ivHfj4D",
        "outputId": "b9b2824e-c0ba-4ae9-ee50-041cf4192cd1"
      },
      "execution_count": null,
      "outputs": [
        {
          "output_type": "stream",
          "name": "stdout",
          "text": [
            "The additive inverse :  [-1, -2, 3, -4, -5]\n"
          ]
        }
      ]
    },
    {
      "cell_type": "code",
      "source": [
        "#Sum Square(n)\n",
        "# Complete the square sum function so that it squares each number passed into it and then sums the results together.\n",
        "\n",
        "def square_sum(numbers):\n",
        "    return sum(num ** 2 for num in numbers)\n",
        "\n",
        "print(\"The sum of the squares : \" , square_sum(numbers))\n"
      ],
      "metadata": {
        "colab": {
          "base_uri": "https://localhost:8080/"
        },
        "id": "9ACXOYKljfmn",
        "outputId": "bdbb5351-1f78-40ab-b193-fc3a6e0e5a26"
      },
      "execution_count": null,
      "outputs": [
        {
          "output_type": "stream",
          "name": "stdout",
          "text": [
            "The sum of the squares :  55\n"
          ]
        }
      ]
    },
    {
      "cell_type": "code",
      "source": [
        "#Digitize\n",
        "# Given a non-negative integer, return an array / a list of the individual digits in order.\n",
        "num = 123\n",
        "digits = [int(digit) for digit in str(num)]  # Convert number to string to iterate over digits\n",
        "print(\"The individual digits:\", digits)"
      ],
      "metadata": {
        "colab": {
          "base_uri": "https://localhost:8080/"
        },
        "id": "HU4JoxltjiMQ",
        "outputId": "7f55e1e1-16f3-404f-9014-be78161abcbb"
      },
      "execution_count": null,
      "outputs": [
        {
          "output_type": "stream",
          "name": "stdout",
          "text": [
            "The individual digits: [1, 2, 3]\n"
          ]
        }
      ]
    },
    {
      "cell_type": "code",
      "source": [
        "#List filtering\n",
        "#In this kata you will create a function that takes a list of non-negative integers and strings and returns a new list with the strings filtered out.\n",
        "def filter_list(lst):\n",
        "  return [item for item in lst if type(item) == int]\n",
        "\n",
        "filter_list([1,2,'a','b'])"
      ],
      "metadata": {
        "colab": {
          "base_uri": "https://localhost:8080/"
        },
        "id": "2zChvpqIkGAe",
        "outputId": "c59e0325-9222-4dbc-aa78-d2ba71581031"
      },
      "execution_count": null,
      "outputs": [
        {
          "output_type": "execute_result",
          "data": {
            "text/plain": [
              "[1, 2]"
            ]
          },
          "metadata": {},
          "execution_count": 34
        }
      ]
    },
    {
      "cell_type": "code",
      "source": [
        "#Arithmetic list\n",
        "def arithmetic_list(first, c, l):\n",
        "    return [first + i * c for i in range(l)]\n",
        "\n",
        "print(arithmetic_list(1, 2, 5))"
      ],
      "metadata": {
        "colab": {
          "base_uri": "https://localhost:8080/"
        },
        "id": "9r-rcue6lZ8n",
        "outputId": "27de191d-005b-4930-fa09-754d4370da62"
      },
      "execution_count": null,
      "outputs": [
        {
          "output_type": "stream",
          "name": "stdout",
          "text": [
            "[1, 3, 5, 7, 9]\n"
          ]
        }
      ]
    },
    {
      "cell_type": "markdown",
      "source": [
        "#Medium"
      ],
      "metadata": {
        "id": "R1xv4FxYgOq1"
      }
    },
    {
      "cell_type": "code",
      "source": [
        "#Multiples of 3 or 5\n",
        "def multiples_of_3_or_5(number):\n",
        "    return sum(num for num in range(number) if num % 3 == 0 or num % 5 == 0)\n",
        "\n",
        "print(\"The sum of multiples of 3 or 5 : \" , multiples_of_3_or_5(10))"
      ],
      "metadata": {
        "colab": {
          "base_uri": "https://localhost:8080/"
        },
        "id": "q6VrJP6NgQ58",
        "outputId": "f902cfa5-adad-4661-c96f-035ceb2148db"
      },
      "execution_count": null,
      "outputs": [
        {
          "output_type": "stream",
          "name": "stdout",
          "text": [
            "The sum of multiples of 3 or 5 :  23\n"
          ]
        }
      ]
    },
    {
      "cell_type": "code",
      "source": [
        "#Count of positives / sum of negatives\n",
        "def count_positives_sum_negatives(arr):\n",
        "    if not arr:\n",
        "        return []\n",
        "\n",
        "    positive_count = sum(1 for num in arr if num > 0)\n",
        "    negative_sum = sum(num for num in arr if num < 0)\n",
        "\n",
        "    return [positive_count, negative_sum]\n",
        "\n",
        "print(\"The count of positives and sum of negatives : \" , count_positives_sum_negatives([1, 2, 3, 4, 5, 6, 7, 8, 9, 10, -11, -12, -13, -14, -15]))"
      ],
      "metadata": {
        "colab": {
          "base_uri": "https://localhost:8080/"
        },
        "id": "EquUkYbinYJG",
        "outputId": "5bf7c141-fa5a-4ad7-a5f2-e549953ec402"
      },
      "execution_count": null,
      "outputs": [
        {
          "output_type": "stream",
          "name": "stdout",
          "text": [
            "The count of positives and sum of negatives :  [10, -65]\n"
          ]
        }
      ]
    },
    {
      "cell_type": "code",
      "source": [
        "#Categorize new member\n",
        "def categorize_members(members):\n",
        "    return [\"Senior\" if age >= 55 and handicap > 7 else \"Open\" for age, handicap in members]\n",
        "\n",
        "print(categorize_members([[18, 20], [45, 2], [61, 12], [37, 6], [21, 21], [78, 9]]))"
      ],
      "metadata": {
        "colab": {
          "base_uri": "https://localhost:8080/"
        },
        "id": "1_3dayXxnZjh",
        "outputId": "3c65bbb2-05ed-4e41-a214-b255929e5569"
      },
      "execution_count": null,
      "outputs": [
        {
          "output_type": "stream",
          "name": "stdout",
          "text": [
            "['Open', 'Open', 'Senior', 'Open', 'Open', 'Senior']\n"
          ]
        }
      ]
    }
  ],
  "metadata": {
    "kernelspec": {
      "display_name": "Python 3 (ipykernel)",
      "language": "python",
      "name": "python3"
    },
    "language_info": {
      "codemirror_mode": {
        "name": "ipython",
        "version": 3
      },
      "file_extension": ".py",
      "mimetype": "text/x-python",
      "name": "python",
      "nbconvert_exporter": "python",
      "pygments_lexer": "ipython3",
      "version": "3.9.13"
    },
    "vscode": {
      "interpreter": {
        "hash": "aee8b7b246df8f9039afb4144a1f6fd8d2ca17a180786b69acc140d282b71a49"
      }
    },
    "colab": {
      "provenance": []
    }
  },
  "nbformat": 4,
  "nbformat_minor": 0
}